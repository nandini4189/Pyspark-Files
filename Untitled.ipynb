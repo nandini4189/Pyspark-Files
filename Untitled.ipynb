{
 "cells": [
  {
   "cell_type": "code",
   "execution_count": 2,
   "metadata": {},
   "outputs": [
    {
     "ename": "ModuleNotFoundError",
     "evalue": "No module named 'psycopg2'",
     "output_type": "error",
     "traceback": [
      "\u001b[1;31m---------------------------------------------------------------------------\u001b[0m",
      "\u001b[1;31mModuleNotFoundError\u001b[0m                       Traceback (most recent call last)",
      "\u001b[1;32m<ipython-input-2-e8d9841e7226>\u001b[0m in \u001b[0;36m<module>\u001b[1;34m\u001b[0m\n\u001b[0;32m      1\u001b[0m \u001b[1;32mimport\u001b[0m \u001b[0mpandas\u001b[0m \u001b[1;32mas\u001b[0m \u001b[0mpd\u001b[0m\u001b[1;33m\u001b[0m\u001b[1;33m\u001b[0m\u001b[0m\n\u001b[1;32m----> 2\u001b[1;33m \u001b[1;32mimport\u001b[0m \u001b[0mpsycopg2\u001b[0m\u001b[1;33m\u001b[0m\u001b[1;33m\u001b[0m\u001b[0m\n\u001b[0m\u001b[0;32m      3\u001b[0m \u001b[1;32mfrom\u001b[0m \u001b[0msqlalchemy\u001b[0m \u001b[1;32mimport\u001b[0m \u001b[0mcreate_engine\u001b[0m\u001b[1;33m\u001b[0m\u001b[1;33m\u001b[0m\u001b[0m\n\u001b[0;32m      4\u001b[0m \u001b[1;33m\u001b[0m\u001b[0m\n\u001b[0;32m      5\u001b[0m \u001b[1;31m# follows django database settings format, replace with your own settings\u001b[0m\u001b[1;33m\u001b[0m\u001b[1;33m\u001b[0m\u001b[1;33m\u001b[0m\u001b[0m\n",
      "\u001b[1;31mModuleNotFoundError\u001b[0m: No module named 'psycopg2'"
     ]
    }
   ],
   "source": [
    "import pandas as pd\n",
    "import psycopg2\n",
    "from sqlalchemy import create_engine\n",
    "\n",
    "# follows django database settings format, replace with your own settings\n",
    "DATABASES = {\n",
    "'xamplify':{\n",
    "'NAME': 'xamplify',\n",
    "'USER': 'postgres',\n",
    "'PASSWORD': 'gjCj7fmExT6kq5j4',\n",
    "'HOST': '138.68.44.49',\n",
    "'PORT': 5432,\n",
    "   },\n",
    "}\n",
    "\n",
    "# choose the database to use\n",
    "db = DATABASES['xamplify']\n",
    "\n",
    "# construct an engine connection string\n",
    "engine_string = \"postgresql+psycopg2://{user}:{password}@{host}:{port}/{database}\".format(\n",
    "user = db['USER'],\n",
    "password = db['PASSWORD'],\n",
    "host = db['HOST'],\n",
    "port = db['PORT'],\n",
    "database = db['NAME'],\n",
    ")\n",
    "\n",
    "# create sqlalchemy engine\n",
    "engine = create_engine(engine_string)\n",
    "\n",
    "# SQL statement to create a table\n",
    "\n",
    "sqlCreateTable  = \"CREATE TABLE Cities(id bigint, cityname varchar(128), latitude numeric, longitude numeric);\";\n",
    "\n",
    " # Execute CREATE TABLE command\n",
    "\n",
    "dbCursor.execute(sqlCreateTable);\n",
    "\n",
    "\n",
    "# Insert statements\n",
    "\n",
    "sqlInsertRow1  = \"INSERT INTO Cities values(1, 'New York City', 40.73, -73.93)\";\n",
    "\n",
    "sqlInsertRow2  = \"INSERT INTO Cities values(2, 'San Francisco', 37.733, -122.446)\";\n",
    "\n",
    "# Insert statement\n",
    "\n",
    "dbCursor.execute(sqlInsertRow1);\n",
    "\n",
    "dbCursor.execute(sqlInsertRow2);\n",
    "\n",
    "\n",
    "# Select statement\n",
    "\n",
    "sqlSelect = \"select * from test.Cities\";\n",
    "\n",
    "dbCursor.execute(sqlSelect);\n",
    "\n",
    "rows = dbCursor.fetchall();\n",
    " \n",
    "\n",
    "# Print rows\n",
    "\n",
    "for row in rows:\n",
    "\n",
    "    print(row);"
   ]
  },
  {
   "cell_type": "code",
   "execution_count": null,
   "metadata": {},
   "outputs": [],
   "source": []
  }
 ],
 "metadata": {
  "kernelspec": {
   "display_name": "Python 3",
   "language": "python",
   "name": "python3"
  },
  "language_info": {
   "codemirror_mode": {
    "name": "ipython",
    "version": 3
   },
   "file_extension": ".py",
   "mimetype": "text/x-python",
   "name": "python",
   "nbconvert_exporter": "python",
   "pygments_lexer": "ipython3",
   "version": "3.8.5"
  }
 },
 "nbformat": 4,
 "nbformat_minor": 4
}
